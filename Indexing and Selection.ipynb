{
 "cells": [
  {
   "cell_type": "code",
   "execution_count": 1,
   "id": "1b977c22",
   "metadata": {},
   "outputs": [
    {
     "name": "stdout",
     "output_type": "stream",
     "text": [
      "Name\n",
      "Avery Bradley    25\n",
      "Jae Crowder      25\n",
      "John Holland     27\n",
      "R.J. Hunter      22\n",
      "Jonas Jerebko    29\n",
      "                 ..\n",
      "Trey Lyles       20\n",
      "Shelvin Mack     26\n",
      "Raul Neto        24\n",
      "Tibor Pleiss     26\n",
      "Jeff Withey      26\n",
      "Name: Age, Length: 457, dtype: int64\n"
     ]
    }
   ],
   "source": [
    "#importing pandas package\n",
    "import pandas as pd\n",
    "\n",
    "# making data frame from csv file\n",
    "data = pd.read_csv(\"nba-2.csv\", index_col = \"Name\")\n",
    "\n",
    "#retrieving columns by indexing operator\n",
    "first = data[\"Age\"]\n",
    "\n",
    "print(first)"
   ]
  },
  {
   "cell_type": "code",
   "execution_count": 2,
   "id": "329abd6a",
   "metadata": {},
   "outputs": [
    {
     "name": "stdout",
     "output_type": "stream",
     "text": [
      "Name\n",
      "Avery Bradley    Boston Celtics\n",
      "Jae Crowder      Boston Celtics\n",
      "John Holland     Boston Celtics\n",
      "R.J. Hunter      Boston Celtics\n",
      "Jonas Jerebko    Boston Celtics\n",
      "                      ...      \n",
      "Trey Lyles            Utah Jazz\n",
      "Shelvin Mack          Utah Jazz\n",
      "Raul Neto             Utah Jazz\n",
      "Tibor Pleiss          Utah Jazz\n",
      "Jeff Withey           Utah Jazz\n",
      "Name: Team, Length: 457, dtype: object\n"
     ]
    }
   ],
   "source": [
    "import pandas as pd\n",
    "\n",
    "# making data frame from csv file\n",
    "data = pd.read_csv(\"nba-2.csv\", index_col = \"Name\")\n",
    "\n",
    "#retrieving columns by indexing operator\n",
    "first = data[\"Team\"]\n",
    "\n",
    "print(first)"
   ]
  },
  {
   "cell_type": "code",
   "execution_count": 3,
   "id": "b10610e3",
   "metadata": {},
   "outputs": [
    {
     "name": "stdout",
     "output_type": "stream",
     "text": [
      "Name\n",
      "Avery Bradley    7730337.0\n",
      "Jae Crowder      6796117.0\n",
      "John Holland           NaN\n",
      "R.J. Hunter      1148640.0\n",
      "Jonas Jerebko    5000000.0\n",
      "                   ...    \n",
      "Trey Lyles       2239800.0\n",
      "Shelvin Mack     2433333.0\n",
      "Raul Neto         900000.0\n",
      "Tibor Pleiss     2900000.0\n",
      "Jeff Withey       947276.0\n",
      "Name: Salary, Length: 457, dtype: float64\n"
     ]
    }
   ],
   "source": [
    "import pandas as pd\n",
    "\n",
    "# making data frame from csv file\n",
    "data = pd.read_csv(\"nba-2.csv\", index_col = \"Name\")\n",
    "\n",
    "#retrieving columns by indexing operator\n",
    "first = data[\"Salary\"]\n",
    "\n",
    "print(first)"
   ]
  },
  {
   "cell_type": "code",
   "execution_count": 4,
   "id": "0d7346e5",
   "metadata": {},
   "outputs": [
    {
     "name": "stdout",
     "output_type": "stream",
     "text": [
      "Position\n",
      "PG    180\n",
      "SF    235\n",
      "SG    205\n",
      "SG    185\n",
      "PF    231\n",
      "     ... \n",
      "PF    234\n",
      "PG    203\n",
      "PG    179\n",
      "C     256\n",
      "C     231\n",
      "Name: Weight, Length: 457, dtype: int64\n"
     ]
    }
   ],
   "source": [
    "import pandas as pd\n",
    "\n",
    "# making data frame from csv file\n",
    "data = pd.read_csv(\"nba-2.csv\", index_col = \"Position\")\n",
    "\n",
    "#retrieving columns by indexing operator\n",
    "first = data[\"Weight\"]\n",
    "\n",
    "print(first)"
   ]
  },
  {
   "cell_type": "code",
   "execution_count": 5,
   "id": "f034cef1",
   "metadata": {},
   "outputs": [
    {
     "name": "stdout",
     "output_type": "stream",
     "text": [
      "Number\n",
      "0                 Texas\n",
      "99            Marquette\n",
      "30    Boston University\n",
      "28        Georgia State\n",
      "8                   NaN\n",
      "            ...        \n",
      "41             Kentucky\n",
      "8                Butler\n",
      "25                  NaN\n",
      "21                  NaN\n",
      "24               Kansas\n",
      "Name: College, Length: 457, dtype: object\n"
     ]
    }
   ],
   "source": [
    "import pandas as pd\n",
    "\n",
    "# making data frame from csv file\n",
    "data = pd.read_csv(\"nba-2.csv\", index_col = \"Number\")\n",
    "\n",
    "#retrieving columns by indexing operator\n",
    "first = data[\"College\"]\n",
    "\n",
    "print(first)"
   ]
  },
  {
   "cell_type": "code",
   "execution_count": 6,
   "id": "d1bf5610",
   "metadata": {},
   "outputs": [
    {
     "name": "stdout",
     "output_type": "stream",
     "text": [
      "               Age            College     Salary\n",
      "Name                                            \n",
      "Avery Bradley   25              Texas  7730337.0\n",
      "Jae Crowder     25          Marquette  6796117.0\n",
      "John Holland    27  Boston University        NaN\n",
      "R.J. Hunter     22      Georgia State  1148640.0\n",
      "Jonas Jerebko   29                NaN  5000000.0\n",
      "...            ...                ...        ...\n",
      "Trey Lyles      20           Kentucky  2239800.0\n",
      "Shelvin Mack    26             Butler  2433333.0\n",
      "Raul Neto       24                NaN   900000.0\n",
      "Tibor Pleiss    26                NaN  2900000.0\n",
      "Jeff Withey     26             Kansas   947276.0\n",
      "\n",
      "[457 rows x 3 columns]\n"
     ]
    }
   ],
   "source": [
    "#importing pandas package\n",
    "import pandas as pd\n",
    "\n",
    "# making data frame from csv file\n",
    "data = pd.read_csv(\"nba-2.csv\", index_col = \"Name\")\n",
    "\n",
    "#retrieving columns by indexing operator\n",
    "first = data[[\"Age\",\"College\",\"Salary\"]]\n",
    "\n",
    "print(first)"
   ]
  },
  {
   "cell_type": "code",
   "execution_count": 7,
   "id": "64bdf696",
   "metadata": {},
   "outputs": [
    {
     "name": "stdout",
     "output_type": "stream",
     "text": [
      "               Team  Number Position\n",
      "Age                                 \n",
      "25   Boston Celtics       0       PG\n",
      "25   Boston Celtics      99       SF\n",
      "27   Boston Celtics      30       SG\n",
      "22   Boston Celtics      28       SG\n",
      "29   Boston Celtics       8       PF\n",
      "..              ...     ...      ...\n",
      "20        Utah Jazz      41       PF\n",
      "26        Utah Jazz       8       PG\n",
      "24        Utah Jazz      25       PG\n",
      "26        Utah Jazz      21        C\n",
      "26        Utah Jazz      24        C\n",
      "\n",
      "[457 rows x 3 columns]\n"
     ]
    }
   ],
   "source": [
    "#importing pandas package\n",
    "import pandas as pd\n",
    "\n",
    "# making data frame from csv file\n",
    "data = pd.read_csv(\"nba-2.csv\", index_col = \"Age\")\n",
    "\n",
    "#retrieving columns by indexing operator\n",
    "first = data[[\"Team\",\"Number\",\"Position\"]]\n",
    "\n",
    "print(first)"
   ]
  },
  {
   "cell_type": "code",
   "execution_count": 8,
   "id": "6e74a05f",
   "metadata": {},
   "outputs": [
    {
     "name": "stdout",
     "output_type": "stream",
     "text": [
      "           Height  Weight            College\n",
      "Salary                                      \n",
      "7730337.0   2-Jun     180              Texas\n",
      "6796117.0   6-Jun     235          Marquette\n",
      "NaN         5-Jun     205  Boston University\n",
      "1148640.0   5-Jun     185      Georgia State\n",
      "5000000.0  10-Jun     231                NaN\n",
      "...           ...     ...                ...\n",
      "2239800.0  10-Jun     234           Kentucky\n",
      "2433333.0   3-Jun     203             Butler\n",
      "900000.0    1-Jun     179                NaN\n",
      "2900000.0   3-Jul     256                NaN\n",
      "947276.0   Jul-00     231             Kansas\n",
      "\n",
      "[457 rows x 3 columns]\n"
     ]
    }
   ],
   "source": [
    "#importing pandas package\n",
    "import pandas as pd\n",
    "\n",
    "# making data frame from csv file\n",
    "data = pd.read_csv(\"nba-2.csv\", index_col = \"Salary\")\n",
    "\n",
    "#retrieving columns by indexing operator\n",
    "first = data[[\"Height\",\"Weight\",\"College\"]]\n",
    "\n",
    "print(first)"
   ]
  },
  {
   "cell_type": "code",
   "execution_count": 10,
   "id": "7fc5dbea",
   "metadata": {},
   "outputs": [
    {
     "name": "stdout",
     "output_type": "stream",
     "text": [
      "Team        Boston Celtics\n",
      "Number                   0\n",
      "Position                PG\n",
      "Age                     25\n",
      "Height               2-Jun\n",
      "Weight                 180\n",
      "College              Texas\n",
      "Salary           7730337.0\n",
      "Name: Avery Bradley, dtype: object \n",
      "\n",
      "\n",
      " Team        Boston Celtics\n",
      "Number                  28\n",
      "Position                SG\n",
      "Age                     22\n",
      "Height               5-Jun\n",
      "Weight                 185\n",
      "College      Georgia State\n",
      "Salary           1148640.0\n",
      "Name: R.J. Hunter, dtype: object\n"
     ]
    }
   ],
   "source": [
    "#importing pandas package\n",
    "import pandas as pd\n",
    "\n",
    "# making data frame from csv file\n",
    "data = pd.read_csv(\"nba-2.csv\", index_col = \"Name\")\n",
    "\n",
    "#retrieving columns by indexing operator\n",
    "first = data.loc[\"Avery Bradley\"]\n",
    "second = data.loc[\"R.J. Hunter\"]\n",
    "\n",
    "print(first, \"\\n\\n\\n\", second)"
   ]
  },
  {
   "cell_type": "code",
   "execution_count": 11,
   "id": "d692a141",
   "metadata": {},
   "outputs": [
    {
     "name": "stdout",
     "output_type": "stream",
     "text": [
      "Team        Boston Celtics\n",
      "Number                  41\n",
      "Position                 C\n",
      "Age                     25\n",
      "Height              Jul-00\n",
      "Weight                 238\n",
      "College            Gonzaga\n",
      "Salary           2165160.0\n",
      "Name: Kelly Olynyk, dtype: object \n",
      "\n",
      "\n",
      " Team        Brooklyn Nets\n",
      "Number                  2\n",
      "Position               PG\n",
      "Age                    32\n",
      "Height              3-Jun\n",
      "Weight                200\n",
      "College      Georgia Tech\n",
      "Salary          6300000.0\n",
      "Name: Jarrett Jack, dtype: object\n"
     ]
    }
   ],
   "source": [
    "#importing pandas package\n",
    "import pandas as pd\n",
    "\n",
    "# making data frame from csv file\n",
    "data = pd.read_csv(\"nba-2.csv\", index_col = \"Name\")\n",
    "\n",
    "#retrieving columns by indexing operator\n",
    "first = data.loc[\"Kelly Olynyk\"]\n",
    "second = data.loc[\"Jarrett Jack\"]\n",
    "\n",
    "print(first, \"\\n\\n\\n\", second)"
   ]
  },
  {
   "cell_type": "code",
   "execution_count": 14,
   "id": "49d0bb0c",
   "metadata": {},
   "outputs": [
    {
     "name": "stdout",
     "output_type": "stream",
     "text": [
      "Team        New York Knicks\n",
      "Number                    8\n",
      "Position                  C\n",
      "Age                      28\n",
      "Height               Jul-00\n",
      "Weight                  255\n",
      "College            Stanford\n",
      "Salary           12650000.0\n",
      "Name: Robin Lopez, dtype: object \n",
      "\n",
      "\n",
      " Team        Brooklyn Nets\n",
      "Number                 14\n",
      "Position                C\n",
      "Age                    26\n",
      "Height             10-Jun\n",
      "Weight                248\n",
      "College        Georgetown\n",
      "Salary           947276.0\n",
      "Name: Henry Sims, dtype: object\n"
     ]
    }
   ],
   "source": [
    "#importing pandas package\n",
    "import pandas as pd\n",
    "\n",
    "# making data frame from csv file\n",
    "data = pd.read_csv(\"nba-2.csv\", index_col = \"Name\")\n",
    "\n",
    "#retrieving columns by indexing operator\n",
    "first = data.loc[\"Robin Lopez\"]\n",
    "second = data.loc[\"Henry Sims\"]\n",
    "\n",
    "print(first, \"\\n\\n\\n\", second)"
   ]
  },
  {
   "cell_type": "code",
   "execution_count": 16,
   "id": "1adf28e7",
   "metadata": {},
   "outputs": [
    {
     "name": "stdout",
     "output_type": "stream",
     "text": [
      "Team        New York Knicks\n",
      "Number                   13\n",
      "Position                 PG\n",
      "Age                      23\n",
      "Height                4-Jun\n",
      "Weight                  195\n",
      "College          Notre Dame\n",
      "Salary            1572360.0\n",
      "Name: Jerian Grant, dtype: object \n",
      "\n",
      "\n",
      " Team         Brooklyn Nets\n",
      "Number                  21\n",
      "Position                SG\n",
      "Age                     28\n",
      "Height               4-Jun\n",
      "Weight                 200\n",
      "College     North Carolina\n",
      "Salary           1500000.0\n",
      "Name: Wayne Ellington, dtype: object\n"
     ]
    }
   ],
   "source": [
    "#importing pandas package\n",
    "import pandas as pd\n",
    "\n",
    "# making data frame from csv file\n",
    "data = pd.read_csv(\"nba-2.csv\", index_col = \"Name\")\n",
    "\n",
    "#retrieving columns by indexing operator\n",
    "first = data.loc[\"Jerian Grant\"]\n",
    "second = data.loc[\"Wayne Ellington\"]\n",
    "\n",
    "print(first, \"\\n\\n\\n\", second)"
   ]
  },
  {
   "cell_type": "code",
   "execution_count": 20,
   "id": "9b606899",
   "metadata": {},
   "outputs": [
    {
     "name": "stdout",
     "output_type": "stream",
     "text": [
      "                         Team  Number Position  Age Height  Weight  \\\n",
      "Name                                                                 \n",
      "Avery Bradley  Boston Celtics       0       PG   25  2-Jun     180   \n",
      "R.J. Hunter    Boston Celtics      28       SG   22  5-Jun     185   \n",
      "\n",
      "                     College     Salary  \n",
      "Name                                     \n",
      "Avery Bradley          Texas  7730337.0  \n",
      "R.J. Hunter    Georgia State  1148640.0  \n"
     ]
    }
   ],
   "source": [
    "#importing pandas package\n",
    "import pandas as pd\n",
    "\n",
    "# making data frame from csv file\n",
    "data = pd.read_csv(\"nba-2.csv\", index_col = \"Name\")\n",
    "\n",
    "#retrieving columns by indexing operator\n",
    "first = data.loc[[\"Avery Bradley\", \"R.J. Hunter\"]]\n",
    "\n",
    "print(first)"
   ]
  },
  {
   "cell_type": "code",
   "execution_count": 23,
   "id": "0faf8857",
   "metadata": {},
   "outputs": [
    {
     "name": "stdout",
     "output_type": "stream",
     "text": [
      "                         Team  Number Position\n",
      "Name                                          \n",
      "Avery Bradley  Boston Celtics       0       PG\n",
      "R.J. Hunter    Boston Celtics      28       SG\n"
     ]
    }
   ],
   "source": [
    "#importing pandas package\n",
    "import pandas as pd\n",
    "\n",
    "# making data frame from csv file\n",
    "data = pd.read_csv(\"nba-2.csv\", index_col = \"Name\")\n",
    "\n",
    "#retrieving columns by indexing operator\n",
    "first = data.loc[[\"Avery Bradley\", \"R.J. Hunter\"],\n",
    "                [\"Team\",\"Number\",\"Position\"]]\n",
    "\n",
    "print(first)"
   ]
  },
  {
   "cell_type": "code",
   "execution_count": 24,
   "id": "f264ad28",
   "metadata": {},
   "outputs": [
    {
     "name": "stdout",
     "output_type": "stream",
     "text": [
      "                         Team  Number Position\n",
      "Name                                          \n",
      "Avery Bradley  Boston Celtics       0       PG\n",
      "Jae Crowder    Boston Celtics      99       SF\n",
      "John Holland   Boston Celtics      30       SG\n",
      "R.J. Hunter    Boston Celtics      28       SG\n",
      "Jonas Jerebko  Boston Celtics       8       PF\n",
      "...                       ...     ...      ...\n",
      "Trey Lyles          Utah Jazz      41       PF\n",
      "Shelvin Mack        Utah Jazz       8       PG\n",
      "Raul Neto           Utah Jazz      25       PG\n",
      "Tibor Pleiss        Utah Jazz      21        C\n",
      "Jeff Withey         Utah Jazz      24        C\n",
      "\n",
      "[457 rows x 3 columns]\n"
     ]
    }
   ],
   "source": [
    "#importing pandas package\n",
    "import pandas as pd\n",
    "\n",
    "# making data frame from csv file\n",
    "data = pd.read_csv(\"nba-2.csv\", index_col = \"Name\")\n",
    "\n",
    "#retrieving columns by indexing operator\n",
    "first = data.loc[:, [\"Team\",\"Number\",\"Position\"]]\n",
    "          \n",
    "\n",
    "print(first)"
   ]
  },
  {
   "cell_type": "code",
   "execution_count": 26,
   "id": "46f5825d",
   "metadata": {},
   "outputs": [
    {
     "name": "stdout",
     "output_type": "stream",
     "text": [
      "Team        Boston Celtics\n",
      "Number                  28\n",
      "Position                SG\n",
      "Age                     22\n",
      "Height               5-Jun\n",
      "Weight                 185\n",
      "College      Georgia State\n",
      "Salary           1148640.0\n",
      "Name: R.J. Hunter, dtype: object\n"
     ]
    }
   ],
   "source": [
    "#importing pandas package\n",
    "import pandas as pd\n",
    "\n",
    "# making data frame from csv file\n",
    "data = pd.read_csv(\"nba-2.csv\", index_col = \"Name\")\n",
    "\n",
    "#retrieving rows by iloc method\n",
    "row2 = data.iloc[3]\n",
    "          \n",
    "\n",
    "print(row2)"
   ]
  },
  {
   "cell_type": "code",
   "execution_count": 27,
   "id": "95e96f00",
   "metadata": {},
   "outputs": [
    {
     "name": "stdout",
     "output_type": "stream",
     "text": [
      "                        Team  Number Position  Age  Height  Weight  \\\n",
      "Name                                                                 \n",
      "R.J. Hunter   Boston Celtics      28       SG   22   5-Jun     185   \n",
      "Amir Johnson  Boston Celtics      90       PF   29   9-Jun     240   \n",
      "Kelly Olynyk  Boston Celtics      41        C   25  Jul-00     238   \n",
      "\n",
      "                    College      Salary  \n",
      "Name                                     \n",
      "R.J. Hunter   Georgia State   1148640.0  \n",
      "Amir Johnson            NaN  12000000.0  \n",
      "Kelly Olynyk        Gonzaga   2165160.0  \n"
     ]
    }
   ],
   "source": [
    "#importing pandas package\n",
    "import pandas as pd\n",
    "\n",
    "# making data frame from csv file\n",
    "data = pd.read_csv(\"nba-2.csv\", index_col = \"Name\")\n",
    "\n",
    "#retrieving multiple rows by iloc method\n",
    "row2 = data.iloc [[3,5,7]]\n",
    "          \n",
    "\n",
    "print(row2)"
   ]
  },
  {
   "cell_type": "code",
   "execution_count": 28,
   "id": "4bb75cd1",
   "metadata": {},
   "outputs": [
    {
     "name": "stdout",
     "output_type": "stream",
     "text": [
      "                            Team  Number Position  Age Height  Weight  \\\n",
      "Name                                                                    \n",
      "Bismack Biyombo  Toronto Raptors       8        C   23  9-Jun     245   \n",
      "Bruno Caboclo    Toronto Raptors      20       SF   20  9-Jun     205   \n",
      "DeMarre Carroll  Toronto Raptors       5       SF   29  8-Jun     212   \n",
      "\n",
      "                  College      Salary  \n",
      "Name                                   \n",
      "Bismack Biyombo       NaN   2814000.0  \n",
      "Bruno Caboclo         NaN   1524000.0  \n",
      "DeMarre Carroll  Missouri  13600000.0  \n"
     ]
    }
   ],
   "source": [
    "#importing pandas package\n",
    "import pandas as pd\n",
    "\n",
    "# making data frame from csv file\n",
    "data = pd.read_csv(\"nba-2.csv\", index_col = \"Name\")\n",
    "\n",
    "#retrieving multiple rows by iloc method\n",
    "row2 = data.iloc [[61,62,63]]\n",
    "          \n",
    "\n",
    "print(row2)"
   ]
  },
  {
   "cell_type": "code",
   "execution_count": 29,
   "id": "3736de41",
   "metadata": {},
   "outputs": [
    {
     "name": "stdout",
     "output_type": "stream",
     "text": [
      "              Number Position\n",
      "Name                         \n",
      "R.J. Hunter       28       SG\n",
      "Amir Johnson      90       PF\n"
     ]
    }
   ],
   "source": [
    "#importing pandas package\n",
    "import pandas as pd\n",
    "\n",
    "# making data frame from csv file\n",
    "data = pd.read_csv(\"nba-2.csv\", index_col = \"Name\")\n",
    "\n",
    "#retrieving two rows and two columns by iloc method\n",
    "row2 = data.iloc [[3,5],[1,2]]\n",
    "          \n",
    "\n",
    "print(row2)"
   ]
  },
  {
   "cell_type": "code",
   "execution_count": 31,
   "id": "bc54087d",
   "metadata": {},
   "outputs": [
    {
     "name": "stdout",
     "output_type": "stream",
     "text": [
      "              College      Salary\n",
      "Name                             \n",
      "Jonas Jerebko     NaN   5000000.0\n",
      "Amir Johnson      NaN  12000000.0\n"
     ]
    }
   ],
   "source": [
    "#importing pandas package\n",
    "import pandas as pd\n",
    "\n",
    "# making data frame from csv file\n",
    "data = pd.read_csv(\"nba-2.csv\", index_col = \"Name\")\n",
    "\n",
    "#retrieving two rows and two columns by iloc method\n",
    "row2 = data.iloc [[4,5],[6,7]]\n",
    "          \n",
    "\n",
    "print(row2)"
   ]
  },
  {
   "cell_type": "code",
   "execution_count": 1,
   "id": "a93476c1",
   "metadata": {},
   "outputs": [
    {
     "name": "stdout",
     "output_type": "stream",
     "text": [
      "       Weight    Name  Age\n",
      "Row_1      45     Sam   14\n",
      "Row_2      88  Andrea   25\n",
      "Row_3      56    Alex   55\n",
      "Row_4      15   Robin    8\n",
      "Row_5      17     Kia   21\n"
     ]
    }
   ],
   "source": [
    "#importing pandas as pd\n",
    "import pandas as pd\n",
    "#Creating the Dataframe\n",
    "df = pd.DataFrame({'Weight':[45,88,56,15,17],\n",
    "                  'Name':['Sam','Andrea','Alex','Robin','Kia'],\n",
    "                  'Age':[14,25,55,8,21]})\n",
    "#Creating the index\n",
    "index_ = ['Row_1','Row_2','Row_3','Row_4','Row_5']\n",
    "\n",
    "#Set the index.\n",
    "df.index =  index_\n",
    "\n",
    "#printing the dataframe\n",
    "print(df)"
   ]
  },
  {
   "cell_type": "code",
   "execution_count": 2,
   "id": "8da15193",
   "metadata": {},
   "outputs": [
    {
     "name": "stdout",
     "output_type": "stream",
     "text": [
      "Andrea\n"
     ]
    }
   ],
   "source": [
    "#return the value\n",
    "result = df.loc['Row_2','Name']\n",
    "print(result)"
   ]
  },
  {
   "cell_type": "code",
   "execution_count": 3,
   "id": "639e4f6c",
   "metadata": {},
   "outputs": [
    {
     "name": "stdout",
     "output_type": "stream",
     "text": [
      "Robin\n"
     ]
    }
   ],
   "source": [
    "result = df.loc['Row_4','Name']\n",
    "print(result)"
   ]
  },
  {
   "cell_type": "code",
   "execution_count": 5,
   "id": "8b3e7532",
   "metadata": {},
   "outputs": [
    {
     "name": "stdout",
     "output_type": "stream",
     "text": [
      "Kia\n"
     ]
    }
   ],
   "source": [
    "result = df.loc['Row_5','Name']\n",
    "print(result)"
   ]
  },
  {
   "cell_type": "code",
   "execution_count": 6,
   "id": "c6a1f09f",
   "metadata": {},
   "outputs": [
    {
     "name": "stdout",
     "output_type": "stream",
     "text": [
      "        A   B   C   D\n",
      "Row_1  12   7  20  14\n",
      "Row_2   4   2  16   3\n",
      "Row_3   5  54  11   8\n",
      "Row_4   2   3   3   2\n",
      "Row_5   1   4   8   6\n"
     ]
    }
   ],
   "source": [
    "#importing pandas as pd\n",
    "import pandas as pd\n",
    "df = pd.DataFrame({\"A\":[12,4,5,2,1],\n",
    "                  \"B\":[7,2,54,3,4],\n",
    "                  \"C\":[20,16,11,3,8],\n",
    "                  \"D\":[14,3,8,2,6]})\n",
    "index_ = ['Row_1','Row_2','Row_3','Row_4','Row_5']\n",
    "df.index = index_\n",
    "print(df)"
   ]
  },
  {
   "cell_type": "code",
   "execution_count": 7,
   "id": "750b6883",
   "metadata": {},
   "outputs": [
    {
     "name": "stdout",
     "output_type": "stream",
     "text": [
      "Kia\n"
     ]
    }
   ],
   "source": [
    "resuult = df.loc[:, ['A','D']]\n",
    "print (result)"
   ]
  },
  {
   "cell_type": "code",
   "execution_count": 8,
   "id": "6509cca3",
   "metadata": {},
   "outputs": [
    {
     "data": {
      "text/html": [
       "<div>\n",
       "<style scoped>\n",
       "    .dataframe tbody tr th:only-of-type {\n",
       "        vertical-align: middle;\n",
       "    }\n",
       "\n",
       "    .dataframe tbody tr th {\n",
       "        vertical-align: top;\n",
       "    }\n",
       "\n",
       "    .dataframe thead th {\n",
       "        text-align: right;\n",
       "    }\n",
       "</style>\n",
       "<table border=\"1\" class=\"dataframe\">\n",
       "  <thead>\n",
       "    <tr style=\"text-align: right;\">\n",
       "      <th></th>\n",
       "      <th>Model Name</th>\n",
       "      <th>Gear</th>\n",
       "      <th>Cylinder</th>\n",
       "    </tr>\n",
       "  </thead>\n",
       "  <tbody>\n",
       "    <tr>\n",
       "      <th>0</th>\n",
       "      <td>Valiant</td>\n",
       "      <td>3</td>\n",
       "      <td>6</td>\n",
       "    </tr>\n",
       "    <tr>\n",
       "      <th>1</th>\n",
       "      <td>Duster 360</td>\n",
       "      <td>3</td>\n",
       "      <td>8</td>\n",
       "    </tr>\n",
       "    <tr>\n",
       "      <th>2</th>\n",
       "      <td>Merc 240D</td>\n",
       "      <td>4</td>\n",
       "      <td>4</td>\n",
       "    </tr>\n",
       "    <tr>\n",
       "      <th>3</th>\n",
       "      <td>Merc 230</td>\n",
       "      <td>4</td>\n",
       "      <td>4</td>\n",
       "    </tr>\n",
       "    <tr>\n",
       "      <th>4</th>\n",
       "      <td>Merc 280</td>\n",
       "      <td>5</td>\n",
       "      <td>6</td>\n",
       "    </tr>\n",
       "    <tr>\n",
       "      <th>5</th>\n",
       "      <td>Merc 280C</td>\n",
       "      <td>4</td>\n",
       "      <td>6</td>\n",
       "    </tr>\n",
       "    <tr>\n",
       "      <th>6</th>\n",
       "      <td>Merc 450SE</td>\n",
       "      <td>3</td>\n",
       "      <td>8</td>\n",
       "    </tr>\n",
       "    <tr>\n",
       "      <th>7</th>\n",
       "      <td>Merc 450SL</td>\n",
       "      <td>3</td>\n",
       "      <td>8</td>\n",
       "    </tr>\n",
       "    <tr>\n",
       "      <th>8</th>\n",
       "      <td>Merc 450SLC</td>\n",
       "      <td>3</td>\n",
       "      <td>8</td>\n",
       "    </tr>\n",
       "    <tr>\n",
       "      <th>9</th>\n",
       "      <td>Cadillac Fleetwood</td>\n",
       "      <td>3</td>\n",
       "      <td>8</td>\n",
       "    </tr>\n",
       "    <tr>\n",
       "      <th>10</th>\n",
       "      <td>Lincoln Continental</td>\n",
       "      <td>3</td>\n",
       "      <td>8</td>\n",
       "    </tr>\n",
       "    <tr>\n",
       "      <th>11</th>\n",
       "      <td>Chrysler Imperial</td>\n",
       "      <td>3</td>\n",
       "      <td>8</td>\n",
       "    </tr>\n",
       "    <tr>\n",
       "      <th>12</th>\n",
       "      <td>Fiat 128</td>\n",
       "      <td>4</td>\n",
       "      <td>4</td>\n",
       "    </tr>\n",
       "    <tr>\n",
       "      <th>13</th>\n",
       "      <td>Honda Civic</td>\n",
       "      <td>4</td>\n",
       "      <td>4</td>\n",
       "    </tr>\n",
       "    <tr>\n",
       "      <th>14</th>\n",
       "      <td>Toyota Corolla</td>\n",
       "      <td>4</td>\n",
       "      <td>4</td>\n",
       "    </tr>\n",
       "  </tbody>\n",
       "</table>\n",
       "</div>"
      ],
      "text/plain": [
       "             Model Name  Gear  Cylinder\n",
       "0               Valiant     3         6\n",
       "1            Duster 360     3         8\n",
       "2             Merc 240D     4         4\n",
       "3              Merc 230     4         4\n",
       "4              Merc 280     5         6\n",
       "5             Merc 280C     4         6\n",
       "6            Merc 450SE     3         8\n",
       "7            Merc 450SL     3         8\n",
       "8           Merc 450SLC     3         8\n",
       "9    Cadillac Fleetwood     3         8\n",
       "10  Lincoln Continental     3         8\n",
       "11    Chrysler Imperial     3         8\n",
       "12             Fiat 128     4         4\n",
       "13          Honda Civic     4         4\n",
       "14       Toyota Corolla     4         4"
      ]
     },
     "execution_count": 8,
     "metadata": {},
     "output_type": "execute_result"
    }
   ],
   "source": [
    "#importing pandas as pd\n",
    "import pandas as pd\n",
    "car_data = {'Model Name':['Valiant',\n",
    "                         'Duster 360',\n",
    "                         'Merc 240D',\n",
    "                         'Merc 230',\n",
    "                         'Merc 280',\n",
    "                         'Merc 280C',\n",
    "                         'Merc 450SE',\n",
    "                         'Merc 450SL',\n",
    "                         'Merc 450SLC',\n",
    "                         'Cadillac Fleetwood',\n",
    "                         'Lincoln Continental',\n",
    "                         'Chrysler Imperial',\n",
    "                         'Fiat 128',\n",
    "                         'Honda Civic',\n",
    "                         'Toyota Corolla'],\n",
    "           'Gear': [3,3,4,4,5,4,3,3,\n",
    "                   3,3,3,3,4,4,4],\n",
    "           'Cylinder': [6,8,4,4,6,6,8,\n",
    "                       8,8,8,8,8,4,4,4]}\n",
    "#Creating Dataframe for the data using\n",
    "#pandas Dataframe Function.\n",
    "car_df = pd.DataFrame(car_data)\n",
    "\n",
    "#printing the dataframe\n",
    "car_df"
   ]
  },
  {
   "cell_type": "code",
   "execution_count": 9,
   "id": "68ac470e",
   "metadata": {},
   "outputs": [
    {
     "name": "stdout",
     "output_type": "stream",
     "text": [
      "Unique values present in the gear column are: [3 4 5]\n"
     ]
    }
   ],
   "source": [
    "#importing pandas as pd\n",
    "import pandas as pd\n",
    "car_data = {'Model Name':['Valiant',\n",
    "                         'Duster 360',\n",
    "                         'Merc 240D',\n",
    "                         'Merc 230',\n",
    "                         'Merc 280',\n",
    "                         'Merc 280C',\n",
    "                         'Merc 450SE',\n",
    "                         'Merc 450SL',\n",
    "                         'Merc 450SLC',\n",
    "                         'Cadillac Fleetwood',\n",
    "                         'Lincoln Continental',\n",
    "                         'Chrysler Imperial',\n",
    "                         'Fiat 128',\n",
    "                         'Honda Civic',\n",
    "                         'Toyota Corolla'],\n",
    "           'Gear': [3,3,4,4,5,4,3,3,\n",
    "                   3,3,3,3,4,4,4],\n",
    "           'Cylinder': [6,8,4,4,6,6,8,\n",
    "                       8,8,8,8,8,4,4,4]}\n",
    "#Creating Dataframe for the data using\n",
    "#pandas Dataframe Function.\n",
    "car_df = pd.DataFrame(car_data)\n",
    "\n",
    "#printing the unique values present in the gear column\n",
    "#finding the unique values present\n",
    "#in the gear column using unique() function\n",
    "print(f\"Unique values present in the gear column are: {car_df['Gear'].unique()}\")"
   ]
  },
  {
   "cell_type": "code",
   "execution_count": 10,
   "id": "39e8f965",
   "metadata": {},
   "outputs": [
    {
     "name": "stdout",
     "output_type": "stream",
     "text": [
      "Unique values present in the cylinder column are: [6 8 4]\n"
     ]
    }
   ],
   "source": [
    "#importing pandas as pd\n",
    "import pandas as pd\n",
    "car_data = {'Model Name':['Valiant',\n",
    "                         'Duster 360',\n",
    "                         'Merc 240D',\n",
    "                         'Merc 230',\n",
    "                         'Merc 280',\n",
    "                         'Merc 280C',\n",
    "                         'Merc 450SE',\n",
    "                         'Merc 450SL',\n",
    "                         'Merc 450SLC',\n",
    "                         'Cadillac Fleetwood',\n",
    "                         'Lincoln Continental',\n",
    "                         'Chrysler Imperial',\n",
    "                         'Fiat 128',\n",
    "                         'Honda Civic',\n",
    "                         'Toyota Corolla'],\n",
    "           'Gear': [3,3,4,4,5,4,3,3,\n",
    "                   3,3,3,3,4,4,4],\n",
    "           'Cylinder': [6,8,4,4,6,6,8,\n",
    "                       8,8,8,8,8,4,4,4]}\n",
    "#Creating Dataframe for the data using\n",
    "#pandas Dataframe Function.\n",
    "car_df = pd.DataFrame(car_data)\n",
    "\n",
    "#printing the unique values present in the gear column\n",
    "#finding the unique values present\n",
    "#in the gear column using unique() function\n",
    "print(f\"Unique values present in the cylinder column are: {car_df['Cylinder'].unique()}\")"
   ]
  },
  {
   "cell_type": "code",
   "execution_count": 11,
   "id": "a7e17edf",
   "metadata": {},
   "outputs": [
    {
     "name": "stdout",
     "output_type": "stream",
     "text": [
      "Unique values present in the cylinder column are: [3 4 5]\n"
     ]
    }
   ],
   "source": [
    "#importing pandas as pd\n",
    "import pandas as pd\n",
    "car_data = {'Model Name':['Valiant',\n",
    "                         'Duster 360',\n",
    "                         'Merc 240D',\n",
    "                         'Merc 230',\n",
    "                         'Merc 280',\n",
    "                         'Merc 280C',\n",
    "                         'Merc 450SE',\n",
    "                         'Merc 450SL',\n",
    "                         'Merc 450SLC',\n",
    "                         'Cadillac Fleetwood',\n",
    "                         'Lincoln Continental',\n",
    "                         'Chrysler Imperial',\n",
    "                         'Fiat 128',\n",
    "                         'Honda Civic',\n",
    "                         'Toyota Corolla'],\n",
    "           'Gear': [3,3,4,4,5,4,3,3,\n",
    "                   3,3,3,3,4,4,4],\n",
    "           'Cylinder': [6,8,4,4,6,6,8,\n",
    "                       8,8,8,8,8,4,4,4]}\n",
    "#Creating Dataframe for the data using\n",
    "#pandas Dataframe Function.\n",
    "car_df = pd.DataFrame(car_data)\n",
    "\n",
    "#finding unique values present in the \n",
    "#groups using unique() function\n",
    "unique_gear = pd.unique(car_df.Gear)\n",
    "unique_cyl = pd.unique(car_df.Cylinder)\n",
    "\n",
    "#printing the unique values present in the Gear column\n",
    "print(f\"Unique values present in the cylinder column are: {unique_gear}\")"
   ]
  },
  {
   "cell_type": "code",
   "execution_count": 4,
   "id": "c4bf0c42",
   "metadata": {},
   "outputs": [
    {
     "name": "stdout",
     "output_type": "stream",
     "text": [
      "Unique values present in the cylinder column are: \n"
     ]
    }
   ],
   "source": [
    "#importing pandas as pd\n",
    "import pandas as pd\n",
    "car_data = {'Model Name':['Valiant',\n",
    "                         'Duster 360',\n",
    "                         'Merc 240D',\n",
    "                         'Merc 230',\n",
    "                         'Merc 280',\n",
    "                         'Merc 280C',\n",
    "                         'Merc 450SE',\n",
    "                         'Merc 450SL',\n",
    "                         'Merc 450SLC',\n",
    "                         'Cadillac Fleetwood',\n",
    "                         'Lincoln Continental',\n",
    "                         'Chrysler Imperial',\n",
    "                         'Fiat 128',\n",
    "                         'Honda Civic',\n",
    "                         'Toyota Corolla'],\n",
    "           'Gear': [3,3,4,4,5,4,3,3,\n",
    "                   3,3,3,3,4,4,4],\n",
    "           'Cylinder': [6,8,4,4,6,6,8,\n",
    "                       8,8,8,8,8,4,4,4]}\n",
    "#Creating Dataframe for the data using\n",
    "#pandas Dataframe Function.\n",
    "car_df = pd.DataFrame(car_data)\n",
    "\n",
    "#finding unique values present in the \n",
    "#groups using unique() function\n",
    "unique_gear = pd.unique(car_df.Gear)\n",
    "unique_cyl = pd.unique(car_df.Cylinder)\n",
    "\n",
    "#printing the unique values present in the Gear column\n",
    "print(\"Unique values present in the cylinder column are: \")"
   ]
  },
  {
   "cell_type": "code",
   "execution_count": 13,
   "id": "241372ff",
   "metadata": {},
   "outputs": [
    {
     "name": "stdout",
     "output_type": "stream",
     "text": [
      "----Output from the first method----\n",
      "3    8\n",
      "4    6\n",
      "5    1\n",
      "Name: Gear, dtype: int64\n",
      "8    7\n",
      "4    5\n",
      "6    3\n",
      "Name: Cylinder, dtype: int64\n"
     ]
    }
   ],
   "source": [
    "#importing pandas as pd\n",
    "import pandas as pd\n",
    "car_data = {'Model Name':['Valiant',\n",
    "                         'Duster 360',\n",
    "                         'Merc 240D',\n",
    "                         'Merc 230',\n",
    "                         'Merc 280',\n",
    "                         'Merc 280C',\n",
    "                         'Merc 450SE',\n",
    "                         'Merc 450SL',\n",
    "                         'Merc 450SLC',\n",
    "                         'Cadillac Fleetwood',\n",
    "                         'Lincoln Continental',\n",
    "                         'Chrysler Imperial',\n",
    "                         'Fiat 128',\n",
    "                         'Honda Civic',\n",
    "                         'Toyota Corolla'],\n",
    "           'Gear': [3,3,4,4,5,4,3,3,\n",
    "                   3,3,3,3,4,4,4],\n",
    "           'Cylinder': [6,8,4,4,6,6,8,\n",
    "                       8,8,8,8,8,4,4,4]}\n",
    "#Creating Dataframe for the data using\n",
    "#pandas Dataframe Function.\n",
    "car_df = pd.DataFrame(car_data)\n",
    "\n",
    "gear_count = pd.value_counts(car_df.Gear)\n",
    "cyl_count = pd.value_counts(car_df.Cylinder)\n",
    "g_count = car_df['Gear'].value_counts()\n",
    "cy_count = car_df['Cylinder'].value_counts()\n",
    "print('----Output from the first method----')\n",
    "print(gear_count)\n",
    "print(cyl_count)"
   ]
  },
  {
   "cell_type": "code",
   "execution_count": 17,
   "id": "9524a44c",
   "metadata": {},
   "outputs": [
    {
     "name": "stdout",
     "output_type": "stream",
     "text": [
      "Number of Unique values present in Model Name: 15\n",
      "Number of Unique values present in Gear: 3\n",
      "Number of Unique values present in Cylinder: 3\n"
     ]
    }
   ],
   "source": [
    "#importing pandas as pd\n",
    "import pandas as pd\n",
    "car_data = {'Model Name':['Valiant',\n",
    "                         'Duster 360',\n",
    "                         'Merc 240D',\n",
    "                         'Merc 230',\n",
    "                         'Merc 280',\n",
    "                         'Merc 280C',\n",
    "                         'Merc 450SE',\n",
    "                         'Merc 450SL',\n",
    "                         'Merc 450SLC',\n",
    "                         'Cadillac Fleetwood',\n",
    "                         'Lincoln Continental',\n",
    "                         'Chrysler Imperial',\n",
    "                         'Fiat 128',\n",
    "                         'Honda Civic',\n",
    "                         'Toyota Corolla'],\n",
    "           'Gear': [3,3,4,4,5,4,3,3,\n",
    "                   3,3,3,3,4,4,4],\n",
    "           'Cylinder': [6,8,4,4,6,6,8,\n",
    "                       8,8,8,8,8,4,4,4]}\n",
    "#Creating Dataframe for the data using\n",
    "#pandas Dataframe Function.\n",
    "car_df = pd.DataFrame(car_data)\n",
    "\n",
    "name_count = pd.unique(car_df['Model Name'])\n",
    "gear_count = pd.unique(car_df.Gear)\n",
    "cyl_count = pd.unique(car_df.Cylinder)\n",
    "\n",
    "#initializing value to 0\n",
    "name_unique = 0\n",
    "gear_unique = 0\n",
    "cyl_unique = 0\n",
    "\n",
    "for item in name_count:\n",
    "    name_unique += 1\n",
    "    \n",
    "for item in gear_count:\n",
    "    gear_unique += 1\n",
    "    \n",
    "for item in gear_count:\n",
    "    cyl_unique += 1\n",
    "    \n",
    "print(f'Number of Unique values present in Model Name: {name_unique}')\n",
    "print(f'Number of Unique values present in Gear: {gear_unique}')\n",
    "print(f'Number of Unique values present in Cylinder: {cyl_unique}')"
   ]
  },
  {
   "cell_type": "code",
   "execution_count": 1,
   "id": "cd8d5e36",
   "metadata": {},
   "outputs": [
    {
     "data": {
      "text/html": [
       "<div>\n",
       "<style scoped>\n",
       "    .dataframe tbody tr th:only-of-type {\n",
       "        vertical-align: middle;\n",
       "    }\n",
       "\n",
       "    .dataframe tbody tr th {\n",
       "        vertical-align: top;\n",
       "    }\n",
       "\n",
       "    .dataframe thead th {\n",
       "        text-align: right;\n",
       "    }\n",
       "</style>\n",
       "<table border=\"1\" class=\"dataframe\">\n",
       "  <thead>\n",
       "    <tr style=\"text-align: right;\">\n",
       "      <th></th>\n",
       "      <th>Name</th>\n",
       "      <th>Team</th>\n",
       "      <th>Number</th>\n",
       "      <th>Position</th>\n",
       "      <th>Age</th>\n",
       "      <th>Height</th>\n",
       "      <th>Weight</th>\n",
       "      <th>College</th>\n",
       "      <th>Salary</th>\n",
       "    </tr>\n",
       "  </thead>\n",
       "  <tbody>\n",
       "    <tr>\n",
       "      <th>0</th>\n",
       "      <td>Avery Bradley</td>\n",
       "      <td>Boston Celtics</td>\n",
       "      <td>0</td>\n",
       "      <td>PG</td>\n",
       "      <td>25</td>\n",
       "      <td>2-Jun</td>\n",
       "      <td>180</td>\n",
       "      <td>Texas</td>\n",
       "      <td>7730337.0</td>\n",
       "    </tr>\n",
       "    <tr>\n",
       "      <th>1</th>\n",
       "      <td>Jae Crowder</td>\n",
       "      <td>Boston Celtics</td>\n",
       "      <td>99</td>\n",
       "      <td>SF</td>\n",
       "      <td>25</td>\n",
       "      <td>6-Jun</td>\n",
       "      <td>235</td>\n",
       "      <td>Marquette</td>\n",
       "      <td>6796117.0</td>\n",
       "    </tr>\n",
       "    <tr>\n",
       "      <th>2</th>\n",
       "      <td>John Holland</td>\n",
       "      <td>Boston Celtics</td>\n",
       "      <td>30</td>\n",
       "      <td>SG</td>\n",
       "      <td>27</td>\n",
       "      <td>5-Jun</td>\n",
       "      <td>205</td>\n",
       "      <td>Boston University</td>\n",
       "      <td>NaN</td>\n",
       "    </tr>\n",
       "    <tr>\n",
       "      <th>3</th>\n",
       "      <td>R.J. Hunter</td>\n",
       "      <td>Boston Celtics</td>\n",
       "      <td>28</td>\n",
       "      <td>SG</td>\n",
       "      <td>22</td>\n",
       "      <td>5-Jun</td>\n",
       "      <td>185</td>\n",
       "      <td>Georgia State</td>\n",
       "      <td>1148640.0</td>\n",
       "    </tr>\n",
       "    <tr>\n",
       "      <th>4</th>\n",
       "      <td>Jonas Jerebko</td>\n",
       "      <td>Boston Celtics</td>\n",
       "      <td>8</td>\n",
       "      <td>PF</td>\n",
       "      <td>29</td>\n",
       "      <td>10-Jun</td>\n",
       "      <td>231</td>\n",
       "      <td>NaN</td>\n",
       "      <td>5000000.0</td>\n",
       "    </tr>\n",
       "    <tr>\n",
       "      <th>...</th>\n",
       "      <td>...</td>\n",
       "      <td>...</td>\n",
       "      <td>...</td>\n",
       "      <td>...</td>\n",
       "      <td>...</td>\n",
       "      <td>...</td>\n",
       "      <td>...</td>\n",
       "      <td>...</td>\n",
       "      <td>...</td>\n",
       "    </tr>\n",
       "    <tr>\n",
       "      <th>452</th>\n",
       "      <td>Trey Lyles</td>\n",
       "      <td>Utah Jazz</td>\n",
       "      <td>41</td>\n",
       "      <td>PF</td>\n",
       "      <td>20</td>\n",
       "      <td>10-Jun</td>\n",
       "      <td>234</td>\n",
       "      <td>Kentucky</td>\n",
       "      <td>2239800.0</td>\n",
       "    </tr>\n",
       "    <tr>\n",
       "      <th>453</th>\n",
       "      <td>Shelvin Mack</td>\n",
       "      <td>Utah Jazz</td>\n",
       "      <td>8</td>\n",
       "      <td>PG</td>\n",
       "      <td>26</td>\n",
       "      <td>3-Jun</td>\n",
       "      <td>203</td>\n",
       "      <td>Butler</td>\n",
       "      <td>2433333.0</td>\n",
       "    </tr>\n",
       "    <tr>\n",
       "      <th>454</th>\n",
       "      <td>Raul Neto</td>\n",
       "      <td>Utah Jazz</td>\n",
       "      <td>25</td>\n",
       "      <td>PG</td>\n",
       "      <td>24</td>\n",
       "      <td>1-Jun</td>\n",
       "      <td>179</td>\n",
       "      <td>NaN</td>\n",
       "      <td>900000.0</td>\n",
       "    </tr>\n",
       "    <tr>\n",
       "      <th>455</th>\n",
       "      <td>Tibor Pleiss</td>\n",
       "      <td>Utah Jazz</td>\n",
       "      <td>21</td>\n",
       "      <td>C</td>\n",
       "      <td>26</td>\n",
       "      <td>3-Jul</td>\n",
       "      <td>256</td>\n",
       "      <td>NaN</td>\n",
       "      <td>2900000.0</td>\n",
       "    </tr>\n",
       "    <tr>\n",
       "      <th>456</th>\n",
       "      <td>Jeff Withey</td>\n",
       "      <td>Utah Jazz</td>\n",
       "      <td>24</td>\n",
       "      <td>C</td>\n",
       "      <td>26</td>\n",
       "      <td>Jul-00</td>\n",
       "      <td>231</td>\n",
       "      <td>Kansas</td>\n",
       "      <td>947276.0</td>\n",
       "    </tr>\n",
       "  </tbody>\n",
       "</table>\n",
       "<p>457 rows × 9 columns</p>\n",
       "</div>"
      ],
      "text/plain": [
       "              Name            Team  Number Position  Age  Height  Weight  \\\n",
       "0    Avery Bradley  Boston Celtics       0       PG   25   2-Jun     180   \n",
       "1      Jae Crowder  Boston Celtics      99       SF   25   6-Jun     235   \n",
       "2     John Holland  Boston Celtics      30       SG   27   5-Jun     205   \n",
       "3      R.J. Hunter  Boston Celtics      28       SG   22   5-Jun     185   \n",
       "4    Jonas Jerebko  Boston Celtics       8       PF   29  10-Jun     231   \n",
       "..             ...             ...     ...      ...  ...     ...     ...   \n",
       "452     Trey Lyles       Utah Jazz      41       PF   20  10-Jun     234   \n",
       "453   Shelvin Mack       Utah Jazz       8       PG   26   3-Jun     203   \n",
       "454      Raul Neto       Utah Jazz      25       PG   24   1-Jun     179   \n",
       "455   Tibor Pleiss       Utah Jazz      21        C   26   3-Jul     256   \n",
       "456    Jeff Withey       Utah Jazz      24        C   26  Jul-00     231   \n",
       "\n",
       "               College     Salary  \n",
       "0                Texas  7730337.0  \n",
       "1            Marquette  6796117.0  \n",
       "2    Boston University        NaN  \n",
       "3        Georgia State  1148640.0  \n",
       "4                  NaN  5000000.0  \n",
       "..                 ...        ...  \n",
       "452           Kentucky  2239800.0  \n",
       "453             Butler  2433333.0  \n",
       "454                NaN   900000.0  \n",
       "455                NaN  2900000.0  \n",
       "456             Kansas   947276.0  \n",
       "\n",
       "[457 rows x 9 columns]"
      ]
     },
     "execution_count": 1,
     "metadata": {},
     "output_type": "execute_result"
    }
   ],
   "source": [
    "import pandas as pd\n",
    "df = pd.read_csv(\"nba-2.csv\")\n",
    "df"
   ]
  },
  {
   "cell_type": "code",
   "execution_count": null,
   "id": "86c57fb5",
   "metadata": {},
   "outputs": [],
   "source": []
  }
 ],
 "metadata": {
  "kernelspec": {
   "display_name": "Python 3 (ipykernel)",
   "language": "python",
   "name": "python3"
  },
  "language_info": {
   "codemirror_mode": {
    "name": "ipython",
    "version": 3
   },
   "file_extension": ".py",
   "mimetype": "text/x-python",
   "name": "python",
   "nbconvert_exporter": "python",
   "pygments_lexer": "ipython3",
   "version": "3.9.13"
  }
 },
 "nbformat": 4,
 "nbformat_minor": 5
}
