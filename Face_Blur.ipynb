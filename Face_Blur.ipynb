{
 "cells": [
  {
   "cell_type": "code",
   "execution_count": 2,
   "id": "aaf370b0",
   "metadata": {},
   "outputs": [
    {
     "name": "stderr",
     "output_type": "stream",
     "text": [
      "C:\\Users\\Shivam Singh\\AppData\\Local\\Temp\\ipykernel_16824\\3500606899.py:19: DeprecationWarning: elementwise comparison failed; this will raise an error in the future.\n",
      "  if faces==():\n"
     ]
    }
   ],
   "source": [
    "# import the necessary packages\n",
    "import cv2\n",
    "\n",
    "cap = cv2.VideoCapture(0)\n",
    "faceCascade = cv2.CascadeClassifier('haarcascade_frontalface_default.xml')\n",
    "\n",
    "while True:\n",
    "    success,img = cap.read()\n",
    "    faces = faceCascade.detectMultiScale(img,1.2,4)\n",
    "    for (x, y, w, h) in faces:\n",
    "        # To make a face blurred\n",
    "        ROI = img[y:y+h, x:x+w]\n",
    "        blur = cv2.GaussianBlur(ROI, (91,91),0) \n",
    "        # Insert ROI back into image\n",
    "        img[y:y+h, x:x+w] = blur\n",
    "\n",
    "        # To make a bounding box #*(Not Necessary)\n",
    "        # cv2.rectangle(img,(x,y),(x+w,y+h),(0,255,0),4)\n",
    "    if faces==():\n",
    "        cv2.putText(img,'No Face Found!',(20,50),cv2.FONT_HERSHEY_COMPLEX,1,(0,0,255))\n",
    "    cv2.imshow('Face Blur',img)\n",
    "    if cv2.waitKey(1) & 0xff==ord('q'):\n",
    "        break\n",
    "# Turn camera off        \n",
    "cap.release()\n",
    "# Close camera window\n",
    "cv2.destroyAllWindows()\n"
   ]
  },
  {
   "cell_type": "code",
   "execution_count": 3,
   "id": "2035a261",
   "metadata": {},
   "outputs": [],
   "source": [
    "import cv2"
   ]
  },
  {
   "cell_type": "code",
   "execution_count": 4,
   "id": "1b74edb9",
   "metadata": {},
   "outputs": [],
   "source": [
    "#Face Detection from Webcam\n",
    "#Load the cascade\n",
    "face_cascade = cv2.CascadeClassifier('haarcascade_frontalface_default.xml')\n",
    "\n",
    "#To capture video from webcam\n",
    "cap = cv2.VideoCapture(0)\n",
    "#To use a video file as input\n",
    "#cap = cv2.VideoCapture('WIN_20230214_12_45_34_Pro.mp4')\n",
    "\n",
    "while True:\n",
    "    #Read the frame\n",
    "    _,img = cap.read()\n",
    "    #Convert to greyscale\n",
    "    gray = cv2.cvtColor(img, cv2.COLOR_BGR2GRAY)\n",
    "    #Detect the faces\n",
    "    faces = face_cascade.detectMultiScale(gray,1.1, 4)\n",
    "    #Draw the rectangle around the face\n",
    "    for (x,y,w,h) in faces:\n",
    "        cv2.rectangle(img, (x,y), (x+w,y+h),(0,255,0), 2)\n",
    "    #Display\n",
    "    cv2.imshow('img',img)\n",
    "    \n",
    "    k = cv2.waitKey(300) & 0xff\n",
    "    if k==27:\n",
    "        break\n",
    "cv2.destroyAllWindows()\n",
    "##Release the VideoCapture object\n",
    "cap.release()"
   ]
  },
  {
   "cell_type": "code",
   "execution_count": 6,
   "id": "882a09e1",
   "metadata": {},
   "outputs": [],
   "source": [
    "#Face detection from mp4 video content\n",
    "#Load the cascade\n",
    "face_cascade = cv2.CascadeClassifier('haarcascade_frontalface_default.xml')\n",
    "\n",
    "#To capture video from webcam\n",
    "#cap = cv2.VideoCapture(0)\n",
    "#To use a video file as input\n",
    "cap = cv2.VideoCapture('WIN_20230214_12_45_34_Pro.mp4')\n",
    "\n",
    "while True:\n",
    "    #Read the frame\n",
    "    _,img = cap.read()\n",
    "    #Convert to greyscale\n",
    "    gray = cv2.cvtColor(img, cv2.COLOR_BGR2GRAY)\n",
    "    #Detect the faces\n",
    "    faces = face_cascade.detectMultiScale(gray,1.1, 4)\n",
    "    #Draw the rectangle around the face\n",
    "    for (x,y,w,h) in faces:\n",
    "        cv2.rectangle(img, (x,y), (x+w,y+h),(0,0,255), 2)\n",
    "    #Display\n",
    "    cv2.imshow('img',img)\n",
    "    #Stop if escape key is pressed\n",
    "    \n",
    "    k = cv2.waitKey(5) & 0xff\n",
    "    if k==27:\n",
    "        break\n",
    "cv2.destroyAllWindows()\n",
    "#Release the VideoCapture object\n",
    "cap.release()"
   ]
  },
  {
   "cell_type": "code",
   "execution_count": 8,
   "id": "9abb622c",
   "metadata": {},
   "outputs": [
    {
     "data": {
      "text/plain": [
       "-1"
      ]
     },
     "execution_count": 8,
     "metadata": {},
     "output_type": "execute_result"
    }
   ],
   "source": [
    "#Number Plate Detection.\n",
    "#Load the Cascade\n",
    "np_cascade=cv2.CascadeClassifier('np.xml')\n",
    "#read the image\n",
    "img = cv2.imread('1.jpg')\n",
    "#convert color image into greyscale\n",
    "grey = cv2.cvtColor(img, cv2.COLOR_BGR2GRAY)\n",
    "#detect plate\n",
    "np = np_cascade.detectMultiScale (grey,2.01,4)\n",
    "#Draw rectangle on plate\n",
    "for (x,y,w,h) in np:\n",
    "    cv2.rectangle(img, (x,y), (x+w,y+h), (20,100,180), 2)\n",
    "cv2.imshow('Detected Number Plate', img)\n",
    "cv2.waitKey(0)"
   ]
  },
  {
   "cell_type": "code",
   "execution_count": null,
   "id": "1bd710d7",
   "metadata": {},
   "outputs": [],
   "source": []
  }
 ],
 "metadata": {
  "kernelspec": {
   "display_name": "Python 3 (ipykernel)",
   "language": "python",
   "name": "python3"
  },
  "language_info": {
   "codemirror_mode": {
    "name": "ipython",
    "version": 3
   },
   "file_extension": ".py",
   "mimetype": "text/x-python",
   "name": "python",
   "nbconvert_exporter": "python",
   "pygments_lexer": "ipython3",
   "version": "3.9.13"
  }
 },
 "nbformat": 4,
 "nbformat_minor": 5
}
