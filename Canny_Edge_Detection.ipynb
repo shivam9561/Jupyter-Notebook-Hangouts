{
 "cells": [
  {
   "cell_type": "code",
   "execution_count": 1,
   "id": "4d1617b5",
   "metadata": {},
   "outputs": [],
   "source": [
    "import cv2"
   ]
  },
  {
   "cell_type": "code",
   "execution_count": 4,
   "id": "2398b72a",
   "metadata": {},
   "outputs": [],
   "source": [
    "#read image\n",
    "img = cv2.imread(\"k2.jpg\")\n",
    "t_lower = 200\n",
    "t_upper = 250\n",
    "edge = cv2.Canny(img, t_lower,t_upper)\n",
    "cv2.imshow('orignal', img)\n",
    "cv2.imshow('edge', edge)\n",
    "cv2.waitKey(0)\n",
    "cv2.destroyAllWindows()"
   ]
  },
  {
   "cell_type": "code",
   "execution_count": 3,
   "id": "1e140c8c",
   "metadata": {},
   "outputs": [],
   "source": [
    "img = cv2.imread(\"k2.jpg\")\n",
    "t_lower = 100\n",
    "t_upper = 150\n",
    "edge = cv2.Canny(img, t_lower,t_upper)\n",
    "cv2.imshow('orignal', img)\n",
    "cv2.imshow('edge', edge)\n",
    "cv2.waitKey(0)\n",
    "cv2.destroyAllWindows()"
   ]
  },
  {
   "cell_type": "code",
   "execution_count": null,
   "id": "8440557a",
   "metadata": {},
   "outputs": [],
   "source": []
  }
 ],
 "metadata": {
  "kernelspec": {
   "display_name": "Python 3 (ipykernel)",
   "language": "python",
   "name": "python3"
  },
  "language_info": {
   "codemirror_mode": {
    "name": "ipython",
    "version": 3
   },
   "file_extension": ".py",
   "mimetype": "text/x-python",
   "name": "python",
   "nbconvert_exporter": "python",
   "pygments_lexer": "ipython3",
   "version": "3.9.13"
  }
 },
 "nbformat": 4,
 "nbformat_minor": 5
}
